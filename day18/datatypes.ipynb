{
 "cells": [
  {
   "cell_type": "code",
   "execution_count": 7,
   "metadata": {},
   "outputs": [
    {
     "name": "stdout",
     "output_type": "stream",
     "text": [
      "number is zero\n"
     ]
    }
   ],
   "source": [
    "i = (int(input(\"enter the number\")))\n",
    "if i>0: print (\"number is positive\")\n",
    "elif i<0: print(\"number is negative\")\n",
    "else: print(\"number is zero\")"
   ]
  },
  {
   "cell_type": "code",
   "execution_count": 10,
   "metadata": {},
   "outputs": [
    {
     "name": "stdout",
     "output_type": "stream",
     "text": [
      "number is divisible\n"
     ]
    }
   ],
   "source": [
    "i = (int(input(\"enter the number\")))\n",
    "if (i%5 and i%11)==0:\n",
    "    print(\"number is divisible\")\n",
    "else:print(\"not divisible\")"
   ]
  },
  {
   "cell_type": "code",
   "execution_count": 18,
   "metadata": {},
   "outputs": [
    {
     "name": "stdout",
     "output_type": "stream",
     "text": [
      "leap year\n"
     ]
    }
   ],
   "source": [
    "i = (int(input(\"enter the year\")))\n",
    "if i%400==0:print(\"leap year\")\n",
    "elif i%100==0:print(\"not leap year\")\n",
    "elif i%4==0:print(\"leap year\")\n",
    "else:print(\"not leap year\")"
   ]
  },
  {
   "cell_type": "code",
   "execution_count": 22,
   "metadata": {},
   "outputs": [
    {
     "name": "stdout",
     "output_type": "stream",
     "text": [
      "character is a alphabet\n"
     ]
    }
   ],
   "source": [
    "i = (input(\"enter the character\"))\n",
    "if i>='a' and i<='z':print(\"character is a alphabet\")\n",
    "else:print(\"character is not a alphabet\")\n"
   ]
  },
  {
   "cell_type": "code",
   "execution_count": 25,
   "metadata": {},
   "outputs": [
    {
     "name": "stdout",
     "output_type": "stream",
     "text": [
      "entered data is consonent\n"
     ]
    }
   ],
   "source": [
    "i = (input(\"enter the character\"))\n",
    "if i==\"a\" or i=='e' or i=='i' or i=='o' or i=='u':print(\"character is vowel\")\n",
    "else:print(\"entered data is consonent\")"
   ]
  },
  {
   "cell_type": "code",
   "execution_count": 27,
   "metadata": {},
   "outputs": [
    {
     "name": "stdout",
     "output_type": "stream",
     "text": [
      "special character\n"
     ]
    }
   ],
   "source": [
    "i = (input(\"enter the character\"))\n",
    "if i>='a' and i<='z':print(\"character is a alphabet\")\n",
    "elif i>='0' and i<='9': print(\"data is digits\")\n",
    "else:print(\"special character\")"
   ]
  },
  {
   "cell_type": "code",
   "execution_count": 32,
   "metadata": {},
   "outputs": [
    {
     "name": "stdout",
     "output_type": "stream",
     "text": [
      "character is lowercase\n"
     ]
    }
   ],
   "source": [
    "i = (input(\"enter the character\"))\n",
    "if i>='A' and i<='Z':print(\"character is uppercase\")\n",
    "else:print(\"character is lowercase\")"
   ]
  },
  {
   "cell_type": "code",
   "execution_count": 35,
   "metadata": {},
   "outputs": [
    {
     "name": "stdout",
     "output_type": "stream",
     "text": [
      "it is a triangle\n"
     ]
    }
   ],
   "source": [
    "(a,b,c) = (int(input(\"enter the value of a\")),int(input(\"enter the value of b\")),int(input(\"enter the value of c\")))\n",
    "if (a+b+c)==180:print(\"it is a triangle\")\n",
    "else:print(\"not a triangle\")"
   ]
  },
  {
   "cell_type": "code",
   "execution_count": 37,
   "metadata": {},
   "outputs": [
    {
     "name": "stdout",
     "output_type": "stream",
     "text": [
      "valid triangle\n"
     ]
    }
   ],
   "source": [
    "(a,b,c) = (int(input(\"enter the value of a\")),int(input(\"enter the value of b\")),int(input(\"enter the value of c\")))\n",
    "if (a+b)>c and (b+c)>a and (a+c)>b: print(\"valid triangle\")\n",
    "else:print(\"not valid triangle\")"
   ]
  },
  {
   "cell_type": "code",
   "execution_count": null,
   "metadata": {},
   "outputs": [],
   "source": []
  }
 ],
 "metadata": {
  "kernelspec": {
   "display_name": "Python 3",
   "language": "python",
   "name": "python3"
  },
  "language_info": {
   "codemirror_mode": {
    "name": "ipython",
    "version": 3
   },
   "file_extension": ".py",
   "mimetype": "text/x-python",
   "name": "python",
   "nbconvert_exporter": "python",
   "pygments_lexer": "ipython3",
   "version": "3.12.2"
  }
 },
 "nbformat": 4,
 "nbformat_minor": 2
}
