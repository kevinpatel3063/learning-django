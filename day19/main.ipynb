{
 "cells": [
  {
   "cell_type": "code",
   "execution_count": 3,
   "metadata": {},
   "outputs": [],
   "source": [
    "def primechecker(a):\n",
    "    flag = True\n",
    "    if a==1 or a==0:\n",
    "        return f\"composite bbers {a}\"\n",
    "    for i in range(2, a):\n",
    "        if a % i ==0:\n",
    "            flag = False\n",
    "            break\n",
    "    if flag:\n",
    "            return f\"prime{a}\""
   ]
  },
  {
   "cell_type": "code",
   "execution_count": 6,
   "metadata": {},
   "outputs": [
    {
     "name": "stdout",
     "output_type": "stream",
     "text": [
      "composite numbers 0\n",
      "composite numbers 1\n",
      "prime2\n",
      "prime3\n",
      "prime5\n",
      "prime7\n"
     ]
    }
   ],
   "source": [
    "for i in range(10):\n",
    "    if primechecker(i) == None:\n",
    "        pass\n",
    "    else:\n",
    "        print(primechecker(i))"
   ]
  },
  {
   "cell_type": "code",
   "execution_count": 10,
   "metadata": {},
   "outputs": [
    {
     "name": "stdout",
     "output_type": "stream",
     "text": [
      "palindrome\n"
     ]
    }
   ],
   "source": [
    "a = (input(\"enter the bber\"))\n",
    "reverse = a[::-1]\n",
    "if a == reverse:\n",
    "     print(\"palindrome\")\n",
    "else:\n",
    "    print(\"not palindrome\")\n"
   ]
  },
  {
   "cell_type": "code",
   "execution_count": 13,
   "metadata": {},
   "outputs": [
    {
     "name": "stdout",
     "output_type": "stream",
     "text": [
      "15\n",
      "30\n",
      "45\n",
      "60\n",
      "75\n",
      "90\n"
     ]
    }
   ],
   "source": [
    "start = int(input(\"enter the start bber\"))\n",
    "end = int(input(\"enter the end of interval\"))\n",
    "\n",
    "for i in range(start,end):\n",
    "    if i % 3 == 0 and i % 5 == 0:\n",
    "        print(i)\n",
    "        # i+=1 \n",
    "\n",
    "\n",
    "\n",
    "\n",
    "\n",
    "\n",
    "\n",
    "\n"
   ]
  },
  {
   "cell_type": "code",
   "execution_count": 26,
   "metadata": {},
   "outputs": [
    {
     "name": "stdout",
     "output_type": "stream",
     "text": [
      "the value :-  24\n"
     ]
    }
   ],
   "source": [
    "fact = int(input(\"enter the bber\"))\n",
    "b = 1\n",
    "for i in range(1,fact+1):\n",
    "      b = b * i\n",
    "print(\"the value :- \", b )\n",
    "\n",
    "   "
   ]
  },
  {
   "cell_type": "code",
   "execution_count": 30,
   "metadata": {},
   "outputs": [
    {
     "name": "stdout",
     "output_type": "stream",
     "text": [
      "the value is :=  46\n"
     ]
    }
   ],
   "source": [
    "\n",
    "bb = 1\n",
    "for i in range(1,10):\n",
    "     bb=bb+i\n",
    "print(\"the value is := \", bb)"
   ]
  },
  {
   "cell_type": "code",
   "execution_count": 38,
   "metadata": {},
   "outputs": [
    {
     "name": "stdout",
     "output_type": "stream",
     "text": [
      "1\n",
      "2\n",
      "3\n",
      "5\n",
      "8\n",
      "13\n",
      "21\n",
      "34\n",
      "55\n",
      "89\n",
      "144\n"
     ]
    }
   ],
   "source": [
    "n = 10\n",
    "a = 0\n",
    "b = 1\n",
    "c = b \n",
    "count = 10\n",
    "print(c)\n",
    "\n",
    "for i in range(0,count):\n",
    "    a, b = b, c\n",
    "    c = a + b\n",
    "    print(c)\n",
    "    \n",
    "\n",
    "# while count <= n:\n",
    "# \tprint(c)\n",
    "# \tcount += 1\n",
    "# \ta, b = b, c\n",
    "# \tc = a + b\n",
    "# print()\n"
   ]
  },
  {
   "cell_type": "code",
   "execution_count": null,
   "metadata": {},
   "outputs": [],
   "source": []
  }
 ],
 "metadata": {
  "kernelspec": {
   "display_name": "Python 3",
   "language": "python",
   "name": "python3"
  },
  "language_info": {
   "codemirror_mode": {
    "name": "ipython",
    "version": 3
   },
   "file_extension": ".py",
   "mimetype": "text/x-python",
   "name": "python",
   "nbconvert_exporter": "python",
   "pygments_lexer": "ipython3",
   "version": "3.12.2"
  }
 },
 "nbformat": 4,
 "nbformat_minor": 2
}
