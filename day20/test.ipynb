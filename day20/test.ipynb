{
 "cells": [
  {
   "cell_type": "code",
   "execution_count": 4,
   "metadata": {},
   "outputs": [
    {
     "name": "stdout",
     "output_type": "stream",
     "text": [
      "100\n"
     ]
    }
   ],
   "source": [
    "# Q1. Write a Python function called `multiply` that takes two parameters `a` and `b` and returns their product\n",
    "def multiply(a,b):\n",
    "    return a*b\n",
    "a = int(input(\"Enter the number\"))\n",
    "b = int(input(\"Enter the number\"))\n",
    "\n",
    "print(multiply(a,b))\n"
   ]
  },
  {
   "cell_type": "code",
   "execution_count": 7,
   "metadata": {},
   "outputs": [
    {
     "name": "stdout",
     "output_type": "stream",
     "text": [
      "0\n",
      "2\n",
      "4\n",
      "6\n",
      "8\n",
      "10\n",
      "12\n",
      "14\n",
      "16\n",
      "18\n"
     ]
    }
   ],
   "source": [
    "# Q2. Write a Python program to print all the even numbers between 1 and 20 using a for loop\n",
    "for i in range(0,20,2):\n",
    "    print(i)\n",
    "\n"
   ]
  },
  {
   "cell_type": "code",
   "execution_count": 8,
   "metadata": {},
   "outputs": [
    {
     "name": "stdout",
     "output_type": "stream",
     "text": [
      "Zero\n"
     ]
    }
   ],
   "source": [
    "# Q3. Write a Python program that takes an integer input from the user and prints whether it is positive, negative, or zero using if...else statements\n",
    "a= int(input(\"Enter your Number\"))\n",
    "\n",
    "if a<0:\n",
    "  print(\"Negative\")\n",
    "elif a>0:\n",
    "  print(\"Positive\")\n",
    "else:\n",
    "  print(\"Zero\")"
   ]
  },
  {
   "cell_type": "code",
   "execution_count": 30,
   "metadata": {},
   "outputs": [
    {
     "name": "stdout",
     "output_type": "stream",
     "text": [
      "*\n",
      "**\n",
      "***\n",
      "****\n"
     ]
    }
   ],
   "source": [
    "# Q4. Write a Python program to print the following pattern:\n",
    "for i in range(1,5):\n",
    "    print(\"*\" * i)\n",
    "    \n"
   ]
  },
  {
   "cell_type": "code",
   "execution_count": 34,
   "metadata": {},
   "outputs": [
    {
     "name": "stdout",
     "output_type": "stream",
     "text": [
      "False\n"
     ]
    }
   ],
   "source": [
    "# Q5. Write a Python function called `is_prime` that takes an integer parameter `num` and returns True if it is a prime number, otherwise returns False.\n",
    "def is_prime(num):\n",
    "    flag = True\n",
    "    for i in range (2,num):\n",
    "        if num % i == 0:\n",
    "            flag = False\n",
    "            print (\"False\")\n",
    "            break\n",
    "    if flag:\n",
    "        print(\"True\")\n",
    "a= int(input(\"Enter the number\"))\n",
    "is_prime(a)            \n"
   ]
  },
  {
   "cell_type": "code",
   "execution_count": 36,
   "metadata": {},
   "outputs": [
    {
     "name": "stdout",
     "output_type": "stream",
     "text": [
      "Factorial of 10 is 3628800\n"
     ]
    }
   ],
   "source": [
    "# Q6. Write a Python program to calculate the factorial of a number using a while loop\n",
    "def factorial(n):\n",
    "    if n < 0:\n",
    "        return 0\n",
    "    elif n == 0 or n == 1:\n",
    "        return 1\n",
    "    else:\n",
    "        fact = 1\n",
    "        while(n > 1):\n",
    "            fact *= n\n",
    "            n -= 1\n",
    "        return fact\n",
    " \n",
    "\n",
    "num = 10\n",
    "print(\"Factorial of\",num,\"is\",\n",
    "factorial(num))"
   ]
  },
  {
   "cell_type": "code",
   "execution_count": 38,
   "metadata": {},
   "outputs": [
    {
     "name": "stdout",
     "output_type": "stream",
     "text": [
      "20\n"
     ]
    }
   ],
   "source": [
    "# Q7. Write a Python program that takes three integers as input from the user and prints the largest of them using if...else statements.\n",
    "\n",
    "a= int(input(\"Enter your Number\"))\n",
    "b= int(input(\"Enter your Number\"))\n",
    "c= int(input(\"Enter your Number\"))\n",
    "\n",
    "if a<b:\n",
    "    if b<c:\n",
    "        print (c)\n",
    "    else:\n",
    "        print (b)\n",
    "else:\n",
    "    print(a)\n",
    "\n"
   ]
  },
  {
   "cell_type": "code",
   "execution_count": 40,
   "metadata": {},
   "outputs": [
    {
     "name": "stdout",
     "output_type": "stream",
     "text": [
      "\n",
      "1\n",
      "22\n",
      "333\n",
      "4444\n"
     ]
    }
   ],
   "source": [
    "# Q8. Write a Python program to print the following pattern:\n",
    "for i in range(5):\n",
    "    a = str(i)\n",
    "    print(a * i)\n"
   ]
  },
  {
   "cell_type": "code",
   "execution_count": 41,
   "metadata": {},
   "outputs": [
    {
     "name": "stdout",
     "output_type": "stream",
     "text": [
      "uhsnatiN\n"
     ]
    }
   ],
   "source": [
    "# Q9. Write a Python function called `reverse_string` that takes a string parameter `s` and returns its reverse.\n",
    "def reverse_string(s):\n",
    "        return s[::-1]\n",
    "print(reverse_string(\"Nitanshu\"))"
   ]
  },
  {
   "cell_type": "code",
   "execution_count": 43,
   "metadata": {},
   "outputs": [
    {
     "name": "stdout",
     "output_type": "stream",
     "text": [
      "0\n",
      "1\n",
      "1\n",
      "2\n",
      "3\n",
      "5\n",
      "8\n",
      "13\n",
      "21\n",
      "34\n",
      "55\n",
      "89\n"
     ]
    }
   ],
   "source": [
    "# Q10. Write a Python program to print the Fibonacci series up to n terms using a for loop.\n",
    "a=0\n",
    "b=1\n",
    "count =10\n",
    "print(a)\n",
    "print(b)\n",
    "for i in range(count):\n",
    "    c =a+b\n",
    "    a = b\n",
    "    b = c\n",
    "    print(c)\n"
   ]
  },
  {
   "cell_type": "code",
   "execution_count": 44,
   "metadata": {},
   "outputs": [
    {
     "name": "stdout",
     "output_type": "stream",
     "text": [
      "Vowel\n"
     ]
    }
   ],
   "source": [
    "# Q11. Write a Python program that takes a character as input from the user and prints whether it is a vowel or a consonant using if...else statements.\n",
    "a= (input(\"Enter your Number\"))\n",
    "if (a == 'a' or a == 'e' or a == 'i' or a == 'o' or a == 'u'):\n",
    "    print(\"Vowel\")\n",
    "else:\n",
    "    print(\"consonant\")\n"
   ]
  },
  {
   "cell_type": "code",
   "execution_count": 49,
   "metadata": {},
   "outputs": [
    {
     "name": "stdout",
     "output_type": "stream",
     "text": [
      "****\n",
      "***\n",
      "**\n",
      "*\n"
     ]
    }
   ],
   "source": [
    "# Q12. Write a Python program to print the following pattern:\n",
    "for i in range(4,0,-1):\n",
    "    print(\"*\" * i)"
   ]
  },
  {
   "cell_type": "code",
   "execution_count": 52,
   "metadata": {},
   "outputs": [
    {
     "name": "stdout",
     "output_type": "stream",
     "text": [
      "100\n"
     ]
    }
   ],
   "source": [
    "# Q13. Write a Python function called `calculate_area` that takes two parameters `length` and `width` and returns the area of a rectangl\n",
    "\n",
    "def multiply(lenghth,width):\n",
    "    return lenghth*width\n",
    "lenghth = int(input(\"Enter the number\"))\n",
    "width = int(input(\"Enter the number\"))\n",
    "\n",
    "print(multiply(lenghth,width))"
   ]
  },
  {
   "cell_type": "code",
   "execution_count": 54,
   "metadata": {},
   "outputs": [
    {
     "name": "stdout",
     "output_type": "stream",
     "text": [
      "2\n",
      "3\n",
      "5\n",
      "7\n",
      "11\n",
      "13\n",
      "17\n",
      "19\n",
      "23\n",
      "29\n",
      "31\n",
      "37\n",
      "41\n",
      "43\n",
      "47\n"
     ]
    }
   ],
   "source": [
    "# Q14. Write a Python program to print all the prime numbers between 1 and 50 using a while loop.\n",
    "def PrimeChecker(num):\n",
    "    flag = True\n",
    "    if num == 0 or num == 1:\n",
    "        return None\n",
    "    for i in range (2, num):\n",
    "        if num % i == 0:\n",
    "            flag = False\n",
    "            break\n",
    "    if flag:\n",
    "        return num\n",
    "for i in range(50):\n",
    "    if PrimeChecker(i) == None:\n",
    "        pass\n",
    "    else:\n",
    "        print(PrimeChecker(i))"
   ]
  },
  {
   "cell_type": "code",
   "execution_count": 55,
   "metadata": {},
   "outputs": [
    {
     "name": "stdout",
     "output_type": "stream",
     "text": [
      "Yes\n"
     ]
    }
   ],
   "source": [
    "# Q15. Write a Python program that takes a string as input from the user and checks whether it is a palindrome or not using if...else statements.\n",
    "\n",
    "def isPalindrome(s):\n",
    "    return s == s[::-1]\n",
    " \n",
    "s = \"malayalam\"\n",
    "ans = isPalindrome(s)\n",
    " \n",
    "if ans:\n",
    "    print(\"Yes\")\n",
    "else:\n",
    "    print(\"No\")"
   ]
  },
  {
   "cell_type": "code",
   "execution_count": 57,
   "metadata": {},
   "outputs": [
    {
     "name": "stdout",
     "output_type": "stream",
     "text": [
      "1234\n",
      "123\n",
      "12\n",
      "1\n"
     ]
    }
   ],
   "source": [
    "# Q16. Write a Python program to print the following pattern:\n",
    "for i in range(4, 0, -1):\n",
    "    for j in range(1, i + 1):\n",
    "            print(j, end=\"\")\n",
    "    print()\n"
   ]
  },
  {
   "cell_type": "code",
   "execution_count": 59,
   "metadata": {},
   "outputs": [
    {
     "name": "stdout",
     "output_type": "stream",
     "text": [
      "4\n"
     ]
    }
   ],
   "source": [
    "# Q17. Write a Python function called `calculate_power` that takes two parameters `base` and `exponent` and returns the result of raising the base to the exponent power.\n",
    "def calculate_power(a,b):\n",
    "    return a**b\n",
    "a = int(input(\"Enter the number\"))\n",
    "b = int(input(\"Enter the number\"))\n",
    "\n",
    "print(calculate_power(a,b))"
   ]
  },
  {
   "cell_type": "code",
   "execution_count": 65,
   "metadata": {},
   "outputs": [
    {
     "name": "stdout",
     "output_type": "stream",
     "text": [
      "2318\n"
     ]
    }
   ],
   "source": [
    "# Q18. Write a Python program to find the sum of all numbers divisible by 3 or 5 between 1 and 100 using a for loop\n",
    "sum = 0\n",
    "for num in range(1, 100):\n",
    "     if num % 3 == 0 or num % 5 == 0:\n",
    "        sum += num\n",
    "print(sum)\n",
    "    "
   ]
  },
  {
   "cell_type": "code",
   "execution_count": 67,
   "metadata": {},
   "outputs": [
    {
     "name": "stdout",
     "output_type": "stream",
     "text": [
      "1\n"
     ]
    }
   ],
   "source": [
    "# Q19. Write a Python program that takes two integers as input from the user and prints their sum if they are both even, otherwise prints their product using if...else statements\n",
    "a = int(input(\"Enter the number\"))\n",
    "b = int(input(\"Enter the number\"))\n",
    "\n",
    "if a % 2 == 0 and b % 2 == 0:\n",
    "    print(a+b)\n",
    "else:\n",
    "    print(a*b)\n",
    "    "
   ]
  },
  {
   "cell_type": "code",
   "execution_count": 80,
   "metadata": {},
   "outputs": [
    {
     "name": "stdout",
     "output_type": "stream",
     "text": [
      " *\n",
      " **\n",
      " ***\n",
      " ****\n",
      " *****\n"
     ]
    }
   ],
   "source": [
    "# Q20. Write a Python program to print the following pattern:\n",
    "for i in range(1,6):\n",
    "    print(\"\",\"*\" * i)"
   ]
  },
  {
   "cell_type": "code",
   "execution_count": null,
   "metadata": {},
   "outputs": [],
   "source": []
  }
 ],
 "metadata": {
  "kernelspec": {
   "display_name": "Python 3",
   "language": "python",
   "name": "python3"
  },
  "language_info": {
   "codemirror_mode": {
    "name": "ipython",
    "version": 3
   },
   "file_extension": ".py",
   "mimetype": "text/x-python",
   "name": "python",
   "nbconvert_exporter": "python",
   "pygments_lexer": "ipython3",
   "version": "3.11.4"
  }
 },
 "nbformat": 4,
 "nbformat_minor": 2
}
